{
  "nbformat": 4,
  "nbformat_minor": 0,
  "metadata": {
    "colab": {
      "provenance": []
    },
    "kernelspec": {
      "name": "python3",
      "display_name": "Python 3"
    },
    "language_info": {
      "name": "python"
    }
  },
  "cells": [
    {
      "cell_type": "markdown",
      "source": [
        "# **Assignment1 : Python Baiscs Assignment**"
      ],
      "metadata": {
        "id": "nG9DEgeWdufR"
      }
    },
    {
      "cell_type": "markdown",
      "source": [],
      "metadata": {
        "id": "2yPZDNiOhyEO"
      }
    },
    {
      "cell_type": "markdown",
      "source": [
        "**Question1:** Explain the key features of python that make it a popular choice of programming?\n",
        "\n",
        "Python is one of the most important  programming lannguage uin the world.It has several features that make it favourite language among beginners and professionals.\n",
        "\n",
        "key features are as follows--\n",
        "\n",
        "**a.High-Level Language:**\n",
        "  As a high-level language, Python abstracts away most of the complex details of the computer, like memory management or processor instructions.\n",
        "  Developers can focus more on solving problems rather than worrying about how the code works at the hardware level.\n",
        "\n",
        "**b.Cross-Platform Compatibility:**\n",
        "  Python is platform-independent\n",
        "  Code written on one OS can typically run on others (e.g., from Windows to Linux or macOS) with little or no modification.\n",
        "  This is useful in collaborative or distributed development environments.\n",
        "\n",
        "**c. Large Ecosystem and Third-Party Libraries:**\n",
        "  Beyond the standard library, Python has a rich ecosystem of third-party packages:\n",
        "  Data Science: NumPy, pandas, Matplotlib, Seaborn.\n",
        "  Machine Learning: scikit-learn, TensorFlow, PyTorch.\n",
        "  Web Development: Django, Flask, FastAPI.\n",
        "  Automation & Scripting: Selenium, BeautifulSoup, PyAutoGUI.\n",
        "  These libraries extend Python’s capabilities and make it suitable for a wide range of applications.\n",
        "\n",
        "**d. Simple and Readable Syntax:**\n",
        "Python emphasizes code readability and simplicity, which makes it ideal for beginners and experienced developers alike.\n",
        "The syntax is similar to plain English, reducing the complexity of coding.\n",
        "\n",
        "**e.Dynamically Typed:**\n",
        "Python uses dynamic typing, which means you don’t need to declare the data type of a variable.\n",
        "The interpreter automatically infers type at the runtime.                                                               \n",
        "\n",
        "**f.Extensive Standard Library:**\n",
        "Python comes with a large built-in library that supports many common tasks:\n",
        "File I/O, regular expressions, math, datetime, JSON, HTTP, threading, and more.\n",
        "This reduces the need to write code from scratch and speeds up development.\n",
        "\n",
        "**g.Integration Capabilities:**\n",
        "Python integrates well with:\n",
        "Other languages like C/C++ (via ctypes, Cython, etc.)\n",
        "Java (via Jython)\n",
        ".NET (via IronPython)\n",
        "Web APIs, databases (MySQL, PostgreSQL, SQLite), and cloud services\n",
        "This makes Python a great glue language — ideal for connecting different systems and technologies.\n",
        "\n",
        "***SUMMARY:***\n",
        "\n",
        "Simple Syntax:\tEasier to learn and write code.\n",
        "\n",
        "Interpreted Language:\tQuick testing and debugging.\n",
        "\n",
        "Dynamic Typing:\tFlexibility in coding.\n",
        "\n",
        "High-Level Language:\tDeveloper-friendly abstraction.\n",
        "\n",
        "Standard Library:\tBuilt-in tools for common tasks.\n",
        "\n",
        "Rich Ecosystem\t:Third-party libraries for every use case.\n",
        "\n",
        "Cross-Platform\t:Runs on all major OSes.\n",
        "\n",
        "Multi-Paradigm :Support\tProcedural, OOP, and functional styles.\n",
        "\n",
        "Strong Community:\tEasy to get help and find resources.\n",
        "\n",
        "Fast Prototyping:\tIdeal for startups and R&D.\n",
        "\n",
        "Integration Ready\tWorks well with other languages and tools.\n",
        "                                                                                                                                                                                                                                                                                                                                                                                                                                                                "
      ],
      "metadata": {
        "id": "BoraC0MtcS5z"
      }
    },
    {
      "cell_type": "markdown",
      "source": [
        "**Question 2:**Describe the role of the predefined keywords in python and provide example how they are used in a program?\n",
        "\n",
        "**Role of Predefined Keywords in python:**\n",
        "In Python, predefined keywords (also known as reserved words) are words that are built into the language and have special meaning. You cannot use them as identifiers (like variable names, function names, or class names) because Python uses them to define the syntax and structure of programs.\n",
        "\n",
        "**Key Roles of Keywords in Python:**\n",
        "\n",
        "a.**Define program structure:**\n",
        "Keywords like if, else, for, while, def, class help build the flow and   structure of a program.\n",
        "\n",
        "b**.Control flow and decision making:**\n",
        "Keywords like if, elif, else, try, except, break, continue are used to control the flow of execution.\n",
        "Declare variables and functions\n",
        "def for functions, class for defining classes, lambda for anonymous functions.\n",
        "\n",
        "c.**Handle exceptions:**\n",
        "try, except, finally, and raise are used for error handling.\n",
        "\n",
        "d.**Logical and boolean operations:**            \n",
        "and, or, not, True, False, None are used for logic, boolean values, and null.\n",
        "\n",
        "e.**Import and modularization:**\n",
        "import, from, as are used for importing modules and managing namespaces.\n",
        "\n",
        "f.**Other Functional Roles:**\n",
        "in is used for membership testing (e.g., in loops or conditionals).\n",
        "is checks object identity.\n",
        "global and nonlocal are used in variable scope.\n",
        "pass, yield, assert, lambda, and others serve specialized purposes.\n",
        "and, or, not, True, False, None are used for logic, boolean values, and null.\n",
        "\n",
        " **Keywords matter beacause ** :\n",
        "\n",
        "Clarity: They make code readable and structured.\n",
        "Consistency: They create a consistent syntax across all Python programs.\n",
        "Functionality: Each keyword serves a purpose — like building logic, organizing data, and handling real-world tasks like error management\n",
        "\n",
        "**SUMMARY**::\n",
        "Keywords are like reserved words that tell Python what to do.\n",
        "They help you control how your program runs.\n",
        "In this simple example, we used keywords to define a function, make a decision, handle errors, and more.\n",
        "\n",
        "Some keywords are written below:\n",
        "\n",
        "false, true, none, and, as, assert, async, await, break, class, continue, def, del, elif, else, except, finally, for, from, global, if, import, in, is, lambda, nonlocal, not, or, pass, raise, return, try, while, with, and yield.\n",
        "\n",
        "**EXAMPLE::**Write a program to check whether the number is negative,positive or zero if it is positive also check even or odd.\n",
        "\n"
      ],
      "metadata": {
        "id": "ymS3THUhjMz7"
      }
    },
    {
      "cell_type": "markdown",
      "source": [],
      "metadata": {
        "id": "9KCSx66bpWoo"
      }
    },
    {
      "cell_type": "code",
      "source": [
        "# Get input from the user\n",
        "num = int(input(\"Enter a number: \"))\n",
        "\n",
        "# First level of if-else\n",
        "if num > 0:\n",
        "    print(\"The number is positive.\")\n",
        "\n",
        "    # Nested if-else to check even or odd\n",
        "    if num % 2 == 0:\n",
        "        print(\"It is even.\")\n",
        "    else:\n",
        "        print(\"It is odd.\")\n",
        "\n",
        "elif num < 0:\n",
        "    print(\"The number is negative.\")\n",
        "else:\n",
        "    print(\"The number is zero.\")\n"
      ],
      "metadata": {
        "id": "wKBv09qhoPSv"
      },
      "execution_count": null,
      "outputs": []
    },
    {
      "cell_type": "markdown",
      "source": [
        "**Question 3:**Comapre and contrast mutable and immutable objects in python with examples?\n",
        "\n",
        "**Mutable objects**: Can be changed after creation. You can update, delete, or add elements without changing the object’s identity (i.e., its memory address).\n",
        "\n",
        "**Immutable objects**: Cannot be changed after creation. Any operation that seems to modify the object actually creates a new object.\n",
        "\n",
        "Differences between mutable and immutable objects:\n",
        "\n",
        "**Feature **            **\tMutable**                     **Immutable**\n",
        "Can be changed:       Yes                                       No\n",
        "Memory (ID) changes:\t No (same object)\t        Yes (new object created)\n",
        "Common examples:     \tlist, dict, set.       \tint, float, str, tuple, bool\n",
        "\n",
        "\n",
        "**Mutable Types in Python  **                  ** Type\tDescription**\n",
        "list\t                                Ordered, changeable collection\n",
        "dict\t                                Key-value pair\n",
        "set                                   Unordered collection of unique items\n",
        "bytearray\t                            Mutable version of bytes\n",
        "\n",
        "**Immutable Types in Python  **                ** Type\tDescription**\n",
        "int\t                                  Numbers like 5, 100\n",
        "float\t                                Decimal numbers like 3.14\n",
        "bool\t                                True, False\n",
        "str\t                                  Text like \"hello\"\n",
        "tuple\t                                Group of values like (1, 2)\n",
        "frozenset                           \tLike set, but immutable.\n",
        "\n",
        "**why does it matters?**\n",
        "Immutable objects are safe to use in multi-threaded programs, function defaults, or dictionary keys because they can’t be accidentally changed.\n",
        "Mutable objects are useful when you need to modify data (like appending to a list or updating a dictionary)."
      ],
      "metadata": {
        "id": "ySNaGv29qMVm"
      }
    },
    {
      "cell_type": "code",
      "source": [
        "#mutable object example:\n",
        "# Create a list\n",
        "my_list = [1, 2, 3]\n",
        "print(\"Before change:\", my_list)\n",
        "\n",
        "# Modify the list\n",
        "my_list.append(4)\n",
        "print(\"After change:\", my_list)\n",
        "# You can see that the list changed — this makes it mutable.\n"
      ],
      "metadata": {
        "id": "FhnaFnnqvP98",
        "colab": {
          "base_uri": "https://localhost:8080/"
        },
        "outputId": "5d139d83-db63-44cd-945e-75cdd875cbf2"
      },
      "execution_count": 16,
      "outputs": [
        {
          "output_type": "stream",
          "name": "stdout",
          "text": [
            "Before change: [1, 2, 3]\n",
            "After change: [1, 2, 3, 4]\n"
          ]
        }
      ]
    },
    {
      "cell_type": "code",
      "source": [
        "#Immutable object example:\n",
        "# Create a string\n",
        "my_str = \"hello\"\n",
        "print(\"Before change:\", my_str)\n",
        "\n",
        "# Try to change it\n",
        "my_str = my_str + \" world\"\n",
        "print(\"After change:\", my_str)\n",
        "# Looks like it changed, but actually, Python created a new string — so strings are immutable.\n"
      ],
      "metadata": {
        "id": "ktsQDXmqdFMq",
        "colab": {
          "base_uri": "https://localhost:8080/"
        },
        "outputId": "2b8c8fa0-6318-4fc4-d111-59a7f9e83c9c"
      },
      "execution_count": 15,
      "outputs": [
        {
          "output_type": "stream",
          "name": "stdout",
          "text": [
            "Before change: hello\n",
            "After change: hello world\n"
          ]
        }
      ]
    },
    {
      "cell_type": "markdown",
      "source": [
        "**Question 4:**discuss the different types of operators in python and provide example of how they used?\n",
        "\n",
        "Operators are symbols or special characters that perform operations on variables and values.\n",
        "Python supports a wide variety of operators used in math, comparisons, logic, bitwise operations, and more.\n",
        "\n",
        "**Types of Operators in Python:**\n",
        "1. Arithmetic Operators::\t   Math operations like +, -, *, /\n",
        "2. Assignment Operators::  \tAssign values using =, +=, -=\n",
        "3. Comparison Operators:: \tCompare values using ==, !=, >, <, etc.\n",
        "4. Logical Operators::\t    Combine conditions using and, or, not\n",
        "5. Identity Operators\t::    Check object identity (is, is not)\n",
        "6. Membership Operators::   Check if value is in sequence (in, not in)\n",
        "7. Bitwise Operators::\t    Work on bits: &,\n",
        "\n",
        "a. Arithmetic Operators:\n",
        "\n",
        "Used for basic math operations.\n",
        "```\n",
        "+\tAddition\ta + b\n",
        "\n",
        "-\tSubtraction\ta - b\n",
        "\n",
        "*\tMultiplication\ta * b\n",
        "\n",
        "/\tDivision (float)\ta / b\n",
        "\n",
        "//   Floor division\ta // b\n",
        "\n",
        "%\tModulus (remainder)\ta % b\n",
        "```\n",
        "b.Assignment operator:\n",
        "\n",
        "Used to assign or update values.\n",
        "\n",
        "```\n",
        "Operator\t\t\t\tExample\t\t\t\t\tMeaning\n",
        "=\t                    x = 5                   Assign 5 to x\n",
        "\n",
        "+=\t\t\t\t\t   x += 2\t                x = x + 2\n",
        "\n",
        "-=\t\t\t\t\t   x -= 2                    x = x - 2\n",
        "\n",
        "*=\t\t\t\t\t   x *= 2\t\t\t\t\tx = x * 2\n",
        "\n",
        "/=\t\t\t\t\t   x /= 2\t\t\t\t\tx = x / 2\n",
        "```\n",
        "\n",
        "c. **Comparison Operators:**\n",
        "\n",
        "Used to compare two values and return True or False.\n",
        "\n",
        "```\n",
        "Operator\t\t\t\tDescription\t\t\t\tExample\n",
        "\n",
        "==\t\t\t\t\t\tEqual to\t\t\t\t  a == b\n",
        "\n",
        "!= \t\t\t\t\t Not equal to \t\t\t   a != b\n",
        "\n",
        ">\t\t\t\t\t\tGreater than\t\t\t   a > b\n",
        "\n",
        "<\t\t\t\t\t\tLess than\t\t\t\t  a < b\n",
        "\n",
        ">=\t\t\t\t\tGreater or equal\t\t \t a >= b\n",
        "\n",
        "<=\t\t\t\t\t  Less or equal\t   \t\ta <= b\n",
        "```\n",
        "d.Logical Operators\n",
        "\n",
        "Used to combine multiple conditions.\n",
        "```\n",
        "and\t\t\tTrue if both conditions true\t\ta > 0 and b > 0\n",
        "\n",
        "or\t\t\t\tTrue if one is true\t\t\t  a > 0 or b > 0\n",
        "\n",
        "not\t\t\t\tInverts the result\t\t\t\tnot(a > b)\n",
        "```\n",
        "e.Membership Operators\n",
        "\n",
        "Used to check if a value is present in a sequence (like a list or string).\n",
        "\n",
        "\n",
        "Operator.\n",
        "```\n",
        "in:\n",
        "\t\"a\" in \"cat\"\tTrue if \"a\" is in the string\n",
        "\n",
        "not in:\n",
        "\t3 not in [1,2]\tTrue if 3 is not in the list\n",
        "```\n",
        "f.Identity Operators\n",
        "\n",
        "Used to check if two variables refer to the same object in memory.\n",
        "\n",
        "\n",
        "Operator.\n",
        "```\n",
        "is:\n",
        "\ta is b\tTrue if same object\n",
        "\n",
        "is not:\n",
        "\ta is not b\tTrue if not same object\n",
        "```\n",
        "g.Bitwise Operators:\n",
        "\n",
        "used with binary numbers\n",
        "\n",
        "Operators:\n",
        "```\n",
        "AND\n",
        "\n",
        "&\n",
        "```\n",
        "```\n",
        "OR\n",
        "\n",
        "|\n",
        "```\n",
        "```\n",
        "XOR\n",
        "\n",
        "^\n",
        "```\n",
        "```\n",
        "NOT\n",
        "\n",
        "~\n",
        "\n",
        "(invert bits)\t~a\n",
        "```\n",
        "```\n",
        "<<\n",
        "\n",
        "Left shift:\n",
        "\n",
        "a << 1\n",
        "```\n",
        "```\n",
        ">>\n",
        "\n",
        "Right shift:\n",
        "\n",
        "\ta >> 1\n",
        "```"
      ],
      "metadata": {
        "id": "WE_hnu_bw04Q"
      }
    },
    {
      "cell_type": "code",
      "source": [
        "#arithmetic operator\n",
        "a = 10\n",
        "b = 3\n",
        "\n",
        "print(a + b)  # 13\n",
        "print(a ** b) # 1000 (10 to the power of 3)\n",
        "#assignment operator\n",
        "x = 5\n",
        "x += 3\n",
        "print(x)  # 8\n",
        "#comparison operator\n",
        "a = 5\n",
        "b = 3\n",
        "print(a > b)  # True\n",
        "print(a == b) # False\n",
        "#logical operator\n",
        "a = 5\n",
        "b = 3\n",
        "#membership operator\n",
        "print(\"h\" in \"hello\")      # True\n",
        "print(5 not in [1, 2, 3])  # True\n",
        "#identity operator\n",
        "x = [1, 2]\n",
        "y = x\n",
        "z = [1, 2]\n",
        "print(x is y)      # True (same object)\n",
        "print(x is z)      # False (same value, different object)\n",
        "#bitwise operator\n",
        "a = 5  # binary: 0101\n",
        "b = 3  # binary: 0011\n",
        "\n",
        "print(a & b)  # 1 (0001)\n",
        "print(a | b)  # 7 (0111)\n",
        "\n",
        "\n",
        "\n"
      ],
      "metadata": {
        "id": "CK7uXk14zDMK",
        "colab": {
          "base_uri": "https://localhost:8080/"
        },
        "outputId": "f88205ae-11e0-415a-8eaf-314d40eb2fc7"
      },
      "execution_count": 14,
      "outputs": [
        {
          "output_type": "stream",
          "name": "stdout",
          "text": [
            "13\n",
            "1000\n",
            "8\n",
            "True\n",
            "False\n",
            "True\n",
            "True\n",
            "True\n",
            "False\n",
            "1\n",
            "7\n"
          ]
        }
      ]
    },
    {
      "cell_type": "markdown",
      "source": [
        "**Question 5:**explain the concept of type castiong in python?\n",
        "\n",
        "Type casting (also called type conversion) is the process of changing the data type of a variable or value from one type to another.\n",
        "\n",
        " Why use type casting.\n",
        "\n",
        "To perform operations between different data types (e.g., string + number).\n",
        "\n",
        "To make input/output more flexible.\n",
        "\n",
        "To avoid type-related errors in your code.\n",
        "\n",
        "Types of Type Casting in Python\n",
        "\n",
        "Python provides two main types of type casting:\n",
        "\n",
        "1. Implicit Type Casting (done automatically by Python)\n",
        "\n",
        "2. Explicit Type Casting (done manually by the programmer)\n",
        "\n",
        "a. Implicit Type Casting:\n",
        "Python automatically converts one data type to another when needed, usually from lower to higher precision (e.g., int to float).\n",
        "\n",
        "b.Explicit Type Casting:\n",
        "You can manually convert one data type to another using built-in functions.\n",
        "\n",
        "Function\tConverts to\tExample :\n",
        "\n",
        "int()\n",
        "\n",
        "Integer\tint(\"10\") → 10\n",
        "\n",
        "float()\n",
        "\n",
        "\tFloat\tfloat(\"3.5\") → 3.5\n",
        "\n",
        "str()\n",
        "\n",
        "String\tstr(123) → \"123\"\n",
        "\n",
        "bool()\n",
        "\n",
        "\tBoolean\tbool(0) → False\n",
        "\n",
        "list()\n",
        "\n",
        "\tList\tlist(\"abc\") → ['a', 'b', 'c']\n",
        "\n",
        "  Summary:\n",
        "\n",
        "Implicit\tPython converts types automatically\n",
        "\n",
        "Explicit\tYou convert types manually using functions\n",
        "\n",
        "Common uses\tConvert strings to numbers, numbers to strings, etc.\n"
      ],
      "metadata": {
        "id": "UKhjT6iL5O8T"
      }
    },
    {
      "cell_type": "code",
      "source": [
        "#implicit type conversion:\n",
        "a = 5         # int\n",
        "b = 2.0       # float\n",
        "\n",
        "c = a + b     # Python converts 'a' to float automatically\n",
        "print(c)      # Output: 7.0\n",
        "print(type(c))  # Output: <class 'float'>\n",
        "\n"
      ],
      "metadata": {
        "id": "QvrN4Lkq68lr",
        "colab": {
          "base_uri": "https://localhost:8080/"
        },
        "outputId": "7299706a-2ff2-4bd3-a195-d6f4c9290b9b"
      },
      "execution_count": 13,
      "outputs": [
        {
          "output_type": "stream",
          "name": "stdout",
          "text": [
            "7.0\n",
            "<class 'float'>\n"
          ]
        }
      ]
    },
    {
      "cell_type": "code",
      "source": [
        "#explicit type conversion:\n",
        "num_str = \"123\"  #string to number\n",
        "num = int(num_str)\n",
        "print(num + 10)     # Output: 133\n",
        "pi = 3.14   #float to integer\n",
        "whole = int(pi)\n",
        "print(whole)  # Output: 3\n"
      ],
      "metadata": {
        "id": "OO75GU-zL6qO",
        "colab": {
          "base_uri": "https://localhost:8080/"
        },
        "outputId": "45c149a7-1bfc-486f-b8de-84688c2d411e"
      },
      "execution_count": 12,
      "outputs": [
        {
          "output_type": "stream",
          "name": "stdout",
          "text": [
            "133\n",
            "3\n"
          ]
        }
      ]
    },
    {
      "cell_type": "markdown",
      "source": [
        "**Question 6:** How do conditional statements work in python? illustrate with examples.\n",
        "\n",
        "Conditional statements are used in Python to make decisions in your program.\n",
        "They let you run different blocks of code depending on whether a condition is True or False.\n",
        "\n",
        " **Types of Conditional Statements in Python:**\n",
        "\n",
        "if:\n",
        "\n",
        "\tExecutes code if the condition is True\n",
        "\n",
        "elif:\n",
        "\n",
        "\t(else if) Checks another condition if previous is False\n",
        "\n",
        "else:\n",
        "\n",
        "\tExecutes code if all conditions are False\n",
        "\n",
        "  *use indentation (tabs or spaces) to define blocks of code under each condition.\n",
        "\n",
        "More Concepts:\n",
        "\n",
        " Nested & Logical Conditions:\n",
        "\n",
        ". Nested if Statements:\n",
        "\n",
        "You can place one if inside another to check multiple layers of conditions.\n",
        "\n",
        "Summary:\n",
        "\n",
        "if\n",
        "Checks a condition\n",
        "\n",
        "elif\n",
        "\n",
        "   adds another condition\n",
        "\n",
        "else\n",
        "\tDefault case if no other condition matched\n",
        "\n",
        "and, or, not\n",
        "\n",
        "Combine or reverse conditions\n",
        "\n",
        ":\tRequired after if, elif, or else to begin the block."
      ],
      "metadata": {
        "id": "jsOEjPpf8KXC"
      }
    },
    {
      "cell_type": "code",
      "source": [
        "#basic syntax:\n",
        "#if condition:\n",
        "    # code block if condition is true\n",
        "#elif another_condition:\n",
        "    # code block if elif is true\n",
        "#else:\n",
        "    # code block if all above are false\n",
        "    # Take input from the user\n",
        "    #example::\n",
        "num = int(input(\"Enter a number: \"))\n",
        "\n",
        "# Conditional check\n",
        "if num > 0:\n",
        "    print(\"The number is positive.\")\n",
        "elif num < 0:\n",
        "    print(\"The number is negative.\")\n",
        "else:\n",
        "    print(\"The number is zero.\")"
      ],
      "metadata": {
        "id": "Os0M9s_G9Y2O"
      },
      "execution_count": null,
      "outputs": []
    },
    {
      "cell_type": "code",
      "source": [
        "#Using and, or, and not (Logical Operators)\n",
        "score = 85\n",
        "\n",
        "if score >= 80 and score <= 100:\n",
        "    print(\"Excellent!\")\n",
        "elif score >= 50:\n",
        "    print(\"Pass\")\n",
        "else:\n",
        "    print(\"Fail\")\n",
        "#This shows how to combine multiple conditions in one line."
      ],
      "metadata": {
        "id": "vl27V3LlLiDL",
        "colab": {
          "base_uri": "https://localhost:8080/"
        },
        "outputId": "aba8c35f-75e4-45f5-92c0-b48b2d1a357f"
      },
      "execution_count": 10,
      "outputs": [
        {
          "output_type": "stream",
          "name": "stdout",
          "text": [
            "Excellent!\n"
          ]
        }
      ]
    },
    {
      "cell_type": "code",
      "source": [
        "#nested if\n",
        "age = 2\n",
        "\n",
        "if age > 0:\n",
        "    if age < 18:\n",
        "        print(\"You are a minor.\")\n",
        "    else:\n",
        "        print(\"You are an adult.\")\n",
        "else:\n",
        "    print(\"Invalid age.\")"
      ],
      "metadata": {
        "id": "poZjA5T6Ldgz",
        "colab": {
          "base_uri": "https://localhost:8080/"
        },
        "outputId": "1aa9c2a5-34b0-4693-ec8f-d6abb6e3b1ab"
      },
      "execution_count": 9,
      "outputs": [
        {
          "output_type": "stream",
          "name": "stdout",
          "text": [
            "You are a minor.\n"
          ]
        }
      ]
    },
    {
      "cell_type": "markdown",
      "source": [
        "**Question7:**  Describe the different types of loops in python and their use cases  with example?\n",
        "\n",
        "Loops allow you to repeat a block of code multiple times. This is especially useful when you want to do something:\n",
        "\n",
        "\n",
        "\n",
        "*   multiple times\n",
        "*   for every item in a list\n",
        "*   or until a condition is met\n",
        "\n",
        "**There are three main types of loops:**\n",
        "1. **for loop**\n",
        "\n",
        "The for loop is used to iterate over a sequence like a list, tuple, string, or range.\n",
        "\n",
        "Use Case:\n",
        "\n",
        "Use it when you know ahead of time how many times you want to loop.\n",
        "\n",
        "Loop through items in a list or string\n",
        "\n",
        "Execute a block of code a specific number of times\n",
        "\n",
        "Perform operations on collections like filtering, aggregating, etc.\n",
        "\n",
        "2. **while loop**\n",
        "\n",
        "The while loop repeats as long as a condition is true.\n",
        "\n",
        "Use Case:\n",
        "\n",
        "Use it when you don’t know beforehand how many times to loop, and you want to continue until a condition is no longer true.\n",
        "\n",
        "Use when the number of iterations is not known in advance\n",
        "\n",
        "\n",
        "Useful for user-driven input loops or reading from sensors/files where the ending is conditional\n",
        "\n",
        "3.**nested loops**\n",
        "\n",
        "A loop inside another loop.\n",
        "\n",
        " Use Case:\n",
        "\n",
        "Useful for working with multi-dimensional data, like matrices or grids.\n",
        "\n",
        "Working with 2D data like matrices\n",
        "\n",
        "Generating pattern-based outputs\n",
        "\n",
        "Simulations or nested iteration logic (e.g. combinations)\n",
        "\n",
        "4.**Loop Control Statements:**\n",
        "\n",
        "break – exits the loop completely.\n",
        "\n",
        "continue – skips to the next iteration.\n",
        "\n",
        "pass – does nothing; used as a placeholder."
      ],
      "metadata": {
        "id": "moEhlGrsADMO"
      }
    },
    {
      "cell_type": "code",
      "source": [
        "# for loop\n",
        "fruits = [\"apple\", \"banana\", \"cherry\"]\n",
        "for fruit in fruits:\n",
        "    print(fruit)\n"
      ],
      "metadata": {
        "colab": {
          "base_uri": "https://localhost:8080/"
        },
        "id": "GUB8fU-dHhME",
        "outputId": "2e1ee7ad-84fa-417f-eb3f-bc8a2dbff2d8"
      },
      "execution_count": 3,
      "outputs": [
        {
          "output_type": "stream",
          "name": "stdout",
          "text": [
            "apple\n",
            "banana\n",
            "cherry\n"
          ]
        }
      ]
    },
    {
      "cell_type": "code",
      "source": [
        "#loop control statements\n",
        "#break\n",
        "for i in range(10):\n",
        "  if i == 5:\n",
        "    break\n",
        "  print(i)\n",
        "#continue\n",
        "for i in range(5):\n",
        "  if i == 2:\n",
        "    continue\n",
        "  print(i)"
      ],
      "metadata": {
        "id": "7zltuFCZK-UW",
        "colab": {
          "base_uri": "https://localhost:8080/"
        },
        "outputId": "eaef45cc-17c2-43fd-ce8a-39bcba0a236c"
      },
      "execution_count": 5,
      "outputs": [
        {
          "output_type": "stream",
          "name": "stdout",
          "text": [
            "0\n",
            "1\n",
            "2\n",
            "3\n",
            "4\n",
            "0\n",
            "1\n",
            "3\n",
            "4\n"
          ]
        }
      ]
    },
    {
      "cell_type": "code",
      "source": [
        "#nested loop\n",
        "for i in range(3):\n",
        "  for j in range(2):\n",
        "    print(f\"i = {i}, j = {j}\")"
      ],
      "metadata": {
        "id": "-zLM9cKOK7G-",
        "colab": {
          "base_uri": "https://localhost:8080/"
        },
        "outputId": "5328a0c9-c7e7-48b8-8963-91384f2fbd14"
      },
      "execution_count": 6,
      "outputs": [
        {
          "output_type": "stream",
          "name": "stdout",
          "text": [
            "i = 0, j = 0\n",
            "i = 0, j = 1\n",
            "i = 1, j = 0\n",
            "i = 1, j = 1\n",
            "i = 2, j = 0\n",
            "i = 2, j = 1\n"
          ]
        }
      ]
    },
    {
      "cell_type": "code",
      "source": [
        "#while loop\n",
        "count = 0\n",
        "while count < 5:\n",
        "  print(\"Count is:\", count)\n",
        "  count+=1\n"
      ],
      "metadata": {
        "id": "Ve9YIM0YKtee",
        "colab": {
          "base_uri": "https://localhost:8080/"
        },
        "outputId": "aa812ed6-2fa0-4f64-f773-706ec1dc7cb5"
      },
      "execution_count": 7,
      "outputs": [
        {
          "output_type": "stream",
          "name": "stdout",
          "text": [
            "Count is: 0\n",
            "Count is: 1\n",
            "Count is: 2\n",
            "Count is: 3\n",
            "Count is: 4\n"
          ]
        }
      ]
    }
  ]
}